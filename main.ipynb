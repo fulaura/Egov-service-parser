{
 "cells": [
  {
   "cell_type": "code",
   "execution_count": null,
   "metadata": {},
   "outputs": [],
   "source": [
    "!pip install beautifulsoup4\n",
    "!pip install requests\n",
    "!pip install pandas"
   ]
  },
  {
   "cell_type": "code",
   "execution_count": 1,
   "metadata": {},
   "outputs": [],
   "source": [
    "from bs4 import BeautifulSoup\n",
    "import requests"
   ]
  },
  {
   "cell_type": "code",
   "execution_count": 33,
   "metadata": {},
   "outputs": [],
   "source": [
    "url='https://egov.kz/cms/ru/online-services/for_citizen'\n",
    "headers = {\n",
    "            \"User-Agent\": \"Mozilla/5.0 (Windows NT 10.0; Win64; x64) AppleWebKit/537.36 (KHTML, like Gecko) Chrome/91.0.4472.124 Safari/537.36\"\n",
    "            }\n",
    "def request_sender(url):\n",
    "    res = requests.get(url, headers=headers)\n",
    "    res.raise_for_status()\n",
    "    return res\n",
    "    "
   ]
  },
  {
   "cell_type": "code",
   "execution_count": 3,
   "metadata": {},
   "outputs": [],
   "source": [
    "soup = BeautifulSoup(request_sender(url).text, 'lxml')"
   ]
  },
  {
   "cell_type": "code",
   "execution_count": 34,
   "metadata": {},
   "outputs": [],
   "source": [
    "def info_getter(service):\n",
    "    req2 = request_sender('https://egov.kz'+service)\n",
    "    soup2 = BeautifulSoup(req2.content, 'lxml')\n",
    "    info_block = soup2.find_all(class_='info-block-horizontal')\n",
    "    if len(info_block)<2: return 'Empty'\n",
    "    info_block = info_block[1].find_all('p')\n",
    "    content=''\n",
    "    for text in info_block:\n",
    "        content+=text.text.strip()+'\\n'\n",
    "    return content"
   ]
  },
  {
   "cell_type": "code",
   "execution_count": null,
   "metadata": {},
   "outputs": [],
   "source": [
    "len(soup.find_all('div', class_='category-item'))"
   ]
  },
  {
   "cell_type": "code",
   "execution_count": null,
   "metadata": {},
   "outputs": [],
   "source": [
    "services = []\n",
    "services_html = soup.find_all('div', class_='category-item')\n",
    "for service in services_html:\n",
    "    category = service.h2.text.replace(\"\\n\",\"\").replace(\" \",\"\")\n",
    "    for link in service.ul.find_all('li'):\n",
    "        print(link.a['href'])\n",
    "        info = info_getter(link.a['href'])\n",
    "        services.append({'category': category,\n",
    "                         'service' : link.text,\n",
    "                         'link' : link.a['href'],\n",
    "                         'info': info})\n",
    "    print(f\"{category}\")"
   ]
  },
  {
   "cell_type": "code",
   "execution_count": 40,
   "metadata": {},
   "outputs": [],
   "source": [
    "import pandas as pd\n",
    "df = pd.DataFrame(services)\n",
    "df\n",
    "df.to_csv('egov_parsed.csv')"
   ]
  },
  {
   "cell_type": "code",
   "execution_count": 7,
   "metadata": {},
   "outputs": [],
   "source": [
    "# df = pd.read_csv('./egov_parsed.csv', index_col=0) \n",
    "# uncomment if you want to load from csv"
   ]
  },
  {
   "cell_type": "code",
   "execution_count": 4,
   "metadata": {},
   "outputs": [],
   "source": [
    "def search(df, column, word):\n",
    "    df = df[df[column].str.contains(word, case=False, na=False)]\n",
    "    return df"
   ]
  },
  {
   "cell_type": "code",
   "execution_count": 8,
   "metadata": {},
   "outputs": [
    {
     "data": {
      "text/html": [
       "<div>\n",
       "<style scoped>\n",
       "    .dataframe tbody tr th:only-of-type {\n",
       "        vertical-align: middle;\n",
       "    }\n",
       "\n",
       "    .dataframe tbody tr th {\n",
       "        vertical-align: top;\n",
       "    }\n",
       "\n",
       "    .dataframe thead th {\n",
       "        text-align: right;\n",
       "    }\n",
       "</style>\n",
       "<table border=\"1\" class=\"dataframe\">\n",
       "  <thead>\n",
       "    <tr style=\"text-align: right;\">\n",
       "      <th></th>\n",
       "      <th>category</th>\n",
       "      <th>service</th>\n",
       "      <th>link</th>\n",
       "      <th>info</th>\n",
       "    </tr>\n",
       "  </thead>\n",
       "  <tbody>\n",
       "    <tr>\n",
       "      <th>6</th>\n",
       "      <td>Семья</td>\n",
       "      <td>Государственная регистрация заключения брака (...</td>\n",
       "      <td>/cms/ru/online-services/for_citizen/pass33-4_mid</td>\n",
       "      <td>Результат оказания услуги\\nСвидетельство о зак...</td>\n",
       "    </tr>\n",
       "    <tr>\n",
       "      <th>7</th>\n",
       "      <td>Семья</td>\n",
       "      <td>Государственная регистрация расторжения брака ...</td>\n",
       "      <td>/cms/ru/online-services/for_citizen/pass33-5_mid</td>\n",
       "      <td>Результат оказания услуги\\nСвидетельство о рас...</td>\n",
       "    </tr>\n",
       "    <tr>\n",
       "      <th>9</th>\n",
       "      <td>Семья</td>\n",
       "      <td>Заявление на заключение брака/регистрация брака</td>\n",
       "      <td>/cms/ru/online-services/for_citizen/e_027</td>\n",
       "      <td>Результат оказания услуги\\nСвидетельство о гос...</td>\n",
       "    </tr>\n",
       "    <tr>\n",
       "      <th>17</th>\n",
       "      <td>Семья</td>\n",
       "      <td>Подача заявки на повторное свидетельство о зак...</td>\n",
       "      <td>/cms/ru/online-services/for_citizen/e_021</td>\n",
       "      <td>Результат оказания услуги\\nПовторное свидетель...</td>\n",
       "    </tr>\n",
       "    <tr>\n",
       "      <th>18</th>\n",
       "      <td>Семья</td>\n",
       "      <td>Подача заявки на повторное свидетельство о рас...</td>\n",
       "      <td>/cms/ru/online-services/for_citizen/e_023</td>\n",
       "      <td>Результат оказания услуги\\nПовторное свидетель...</td>\n",
       "    </tr>\n",
       "    <tr>\n",
       "      <th>21</th>\n",
       "      <td>Семья</td>\n",
       "      <td>Получение справки о заключении брака</td>\n",
       "      <td>/cms/ru/online-services/for_citizen/e_019</td>\n",
       "      <td>Результат оказания услуги\\nПовторное свидетель...</td>\n",
       "    </tr>\n",
       "    <tr>\n",
       "      <th>22</th>\n",
       "      <td>Семья</td>\n",
       "      <td>Получение справки о расторжении брака</td>\n",
       "      <td>/cms/ru/online-services/for_citizen/e_018</td>\n",
       "      <td>Результат оказания услуги\\nПовторное свидетель...</td>\n",
       "    </tr>\n",
       "    <tr>\n",
       "      <th>30</th>\n",
       "      <td>Семья</td>\n",
       "      <td>Расторжение брака</td>\n",
       "      <td>/cms/ru/online-services/for_citizen/pass017_mu</td>\n",
       "      <td>Результат оказания услуги\\nСвидетельство о гос...</td>\n",
       "    </tr>\n",
       "  </tbody>\n",
       "</table>\n",
       "</div>"
      ],
      "text/plain": [
       "   category                                            service  \\\n",
       "6     Семья  Государственная регистрация заключения брака (...   \n",
       "7     Семья  Государственная регистрация расторжения брака ...   \n",
       "9     Семья    Заявление на заключение брака/регистрация брака   \n",
       "17    Семья  Подача заявки на повторное свидетельство о зак...   \n",
       "18    Семья  Подача заявки на повторное свидетельство о рас...   \n",
       "21    Семья               Получение справки о заключении брака   \n",
       "22    Семья              Получение справки о расторжении брака   \n",
       "30    Семья                                  Расторжение брака   \n",
       "\n",
       "                                                link  \\\n",
       "6   /cms/ru/online-services/for_citizen/pass33-4_mid   \n",
       "7   /cms/ru/online-services/for_citizen/pass33-5_mid   \n",
       "9          /cms/ru/online-services/for_citizen/e_027   \n",
       "17         /cms/ru/online-services/for_citizen/e_021   \n",
       "18         /cms/ru/online-services/for_citizen/e_023   \n",
       "21         /cms/ru/online-services/for_citizen/e_019   \n",
       "22         /cms/ru/online-services/for_citizen/e_018   \n",
       "30    /cms/ru/online-services/for_citizen/pass017_mu   \n",
       "\n",
       "                                                 info  \n",
       "6   Результат оказания услуги\\nСвидетельство о зак...  \n",
       "7   Результат оказания услуги\\nСвидетельство о рас...  \n",
       "9   Результат оказания услуги\\nСвидетельство о гос...  \n",
       "17  Результат оказания услуги\\nПовторное свидетель...  \n",
       "18  Результат оказания услуги\\nПовторное свидетель...  \n",
       "21  Результат оказания услуги\\nПовторное свидетель...  \n",
       "22  Результат оказания услуги\\nПовторное свидетель...  \n",
       "30  Результат оказания услуги\\nСвидетельство о гос...  "
      ]
     },
     "execution_count": 8,
     "metadata": {},
     "output_type": "execute_result"
    }
   ],
   "source": [
    "search(df, 'service', 'брак')"
   ]
  },
  {
   "cell_type": "code",
   "execution_count": 9,
   "metadata": {},
   "outputs": [
    {
     "data": {
      "text/plain": [
       "(266, 4)"
      ]
     },
     "execution_count": 9,
     "metadata": {},
     "output_type": "execute_result"
    }
   ],
   "source": [
    "df.shape"
   ]
  }
 ],
 "metadata": {
  "kernelspec": {
   "display_name": "Python 3",
   "language": "python",
   "name": "python3"
  },
  "language_info": {
   "codemirror_mode": {
    "name": "ipython",
    "version": 3
   },
   "file_extension": ".py",
   "mimetype": "text/x-python",
   "name": "python",
   "nbconvert_exporter": "python",
   "pygments_lexer": "ipython3",
   "version": "3.12.4"
  }
 },
 "nbformat": 4,
 "nbformat_minor": 2
}
